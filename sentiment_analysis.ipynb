{
  "nbformat": 4,
  "nbformat_minor": 0,
  "metadata": {
    "colab": {
      "name": "sentiment_analysis.ipynb",
      "version": "0.3.2",
      "provenance": [],
      "collapsed_sections": [],
      "toc_visible": true
    },
    "kernelspec": {
      "name": "python3",
      "display_name": "Python 3"
    },
    "accelerator": "GPU"
  },
  "cells": [
    {
      "cell_type": "markdown",
      "metadata": {
        "id": "DK_OJex3Qt9T",
        "colab_type": "text"
      },
      "source": [
        "# **Twitter Sentiment Analysis**"
      ]
    },
    {
      "cell_type": "markdown",
      "metadata": {
        "id": "A3lab13MjDjF",
        "colab_type": "text"
      },
      "source": [
        "### **Import**"
      ]
    },
    {
      "cell_type": "code",
      "metadata": {
        "id": "-ZIAK_qqQic3",
        "colab_type": "code",
        "outputId": "62e691d1-95a5-4e7b-e376-a12b3018b5f1",
        "colab": {
          "base_uri": "https://localhost:8080/",
          "height": 34
        }
      },
      "source": [
        "import io\n",
        "import codecs\n",
        "import json\n",
        "\n",
        "import keras\n",
        "import nltk\n",
        "\n",
        "import numpy as np\n",
        "import pandas as pd\n",
        "import matplotlib.pyplot as plt\n",
        "\n",
        "\n",
        "from tqdm import tqdm\n",
        "\n",
        "from nltk.corpus import stopwords\n",
        "from nltk.tokenize import RegexpTokenizer, TweetTokenizer\n",
        "from nltk.stem.wordnet import WordNetLemmatizer\n",
        "\n",
        "from keras.preprocessing.text import Tokenizer\n",
        "from keras.preprocessing import sequence\n",
        "\n",
        "from keras import optimizers\n",
        "from keras.models import Sequential, Model\n",
        "from keras.layers import Dense, Activation, Dropout, Flatten, Input, concatenate\n",
        "from keras.layers import Embedding, Conv1D, MaxPooling1D, GlobalMaxPooling1D, SpatialDropout1D \n",
        "from keras.layers import GRU, LSTM, Bidirectional"
      ],
      "execution_count": 0,
      "outputs": [
        {
          "output_type": "stream",
          "text": [
            "Using TensorFlow backend.\n"
          ],
          "name": "stderr"
        }
      ]
    },
    {
      "cell_type": "code",
      "metadata": {
        "id": "lY-w8o1A7UC1",
        "colab_type": "code",
        "outputId": "40841ad8-8937-45dd-85d9-8950257106a1",
        "colab": {
          "base_uri": "https://localhost:8080/",
          "height": 102
        }
      },
      "source": [
        "nltk.download('stopwords')\n",
        "nltk.download('wordnet')"
      ],
      "execution_count": 0,
      "outputs": [
        {
          "output_type": "stream",
          "text": [
            "[nltk_data] Downloading package stopwords to /root/nltk_data...\n",
            "[nltk_data]   Package stopwords is already up-to-date!\n",
            "[nltk_data] Downloading package wordnet to /root/nltk_data...\n",
            "[nltk_data]   Package wordnet is already up-to-date!\n"
          ],
          "name": "stdout"
        },
        {
          "output_type": "execute_result",
          "data": {
            "text/plain": [
              "True"
            ]
          },
          "metadata": {
            "tags": []
          },
          "execution_count": 2
        }
      ]
    },
    {
      "cell_type": "code",
      "metadata": {
        "id": "7RvCGcGQ1qRb",
        "colab_type": "code",
        "outputId": "896a4e3a-33e7-4ba5-80a8-6ea89f478000",
        "colab": {
          "base_uri": "https://localhost:8080/",
          "height": 306
        }
      },
      "source": [
        "! nvidia-smi"
      ],
      "execution_count": 0,
      "outputs": [
        {
          "output_type": "stream",
          "text": [
            "Sun Mar 31 09:37:28 2019       \n",
            "+-----------------------------------------------------------------------------+\n",
            "| NVIDIA-SMI 418.56       Driver Version: 410.79       CUDA Version: 10.0     |\n",
            "|-------------------------------+----------------------+----------------------+\n",
            "| GPU  Name        Persistence-M| Bus-Id        Disp.A | Volatile Uncorr. ECC |\n",
            "| Fan  Temp  Perf  Pwr:Usage/Cap|         Memory-Usage | GPU-Util  Compute M. |\n",
            "|===============================+======================+======================|\n",
            "|   0  Tesla K80           Off  | 00000000:00:04.0 Off |                    0 |\n",
            "| N/A   70C    P8    34W / 149W |      0MiB / 11441MiB |      0%      Default |\n",
            "+-------------------------------+----------------------+----------------------+\n",
            "                                                                               \n",
            "+-----------------------------------------------------------------------------+\n",
            "| Processes:                                                       GPU Memory |\n",
            "|  GPU       PID   Type   Process name                             Usage      |\n",
            "|=============================================================================|\n",
            "|  No running processes found                                                 |\n",
            "+-----------------------------------------------------------------------------+\n"
          ],
          "name": "stdout"
        }
      ]
    },
    {
      "cell_type": "markdown",
      "metadata": {
        "id": "xH6G2WJOmww4",
        "colab_type": "text"
      },
      "source": [
        "## Link drive data"
      ]
    },
    {
      "cell_type": "code",
      "metadata": {
        "id": "P1XQ2yuzmvh_",
        "colab_type": "code",
        "colab": {}
      },
      "source": [
        "# Install the PyDrive wrapper & import libraries.\n",
        "# This only needs to be done once per notebook.\n",
        "!pip install -U -q PyDrive\n",
        "from pydrive.auth import GoogleAuth\n",
        "from pydrive.drive import GoogleDrive\n",
        "from google.colab import auth\n",
        "from oauth2client.client import GoogleCredentials"
      ],
      "execution_count": 0,
      "outputs": []
    },
    {
      "cell_type": "code",
      "metadata": {
        "id": "t08xz8lonCuU",
        "colab_type": "code",
        "colab": {}
      },
      "source": [
        "# Authenticate and create the PyDrive client.\n",
        "# This only needs to be done once per notebook.\n",
        "auth.authenticate_user()\n",
        "gauth = GoogleAuth()\n",
        "gauth.credentials = GoogleCredentials.get_application_default()\n",
        "drive = GoogleDrive(gauth)"
      ],
      "execution_count": 0,
      "outputs": []
    },
    {
      "cell_type": "code",
      "metadata": {
        "id": "X1_Irk9wnCxF",
        "colab_type": "code",
        "colab": {}
      },
      "source": [
        "# Download a file based on its file ID.\n",
        "#\n",
        "# A file ID looks like: laggVyWshwcyP6kEI-y_W3P8D26sz\n",
        "file_id = '1RmOEI3BkcjtY5SODeJNyst-zzjWKV1F4'\n",
        "downloaded = drive.CreateFile({'id': file_id})\n",
        "downloaded.GetContentFile('train.csv')"
      ],
      "execution_count": 0,
      "outputs": []
    },
    {
      "cell_type": "code",
      "metadata": {
        "id": "czWHjDpXoxBb",
        "colab_type": "code",
        "colab": {}
      },
      "source": [
        "file_id = '1ZUVxQ_FXXB6sY_x47v6JWk0Xswyx11NB'\n",
        "downloaded = drive.CreateFile({'id': file_id})\n",
        "downloaded.GetContentFile('wiki.vec')"
      ],
      "execution_count": 0,
      "outputs": []
    },
    {
      "cell_type": "markdown",
      "metadata": {
        "id": "cs-tHITB1k9E",
        "colab_type": "text"
      },
      "source": [
        "## **Importation de données**"
      ]
    },
    {
      "cell_type": "code",
      "metadata": {
        "id": "BmTJKxfu1ZFr",
        "colab_type": "code",
        "colab": {}
      },
      "source": [
        "df_train = pd.read_csv('train.csv')"
      ],
      "execution_count": 0,
      "outputs": []
    },
    {
      "cell_type": "code",
      "metadata": {
        "id": "eERhqxWR7fpD",
        "colab_type": "code",
        "outputId": "b9d33129-6db1-48b1-a9ae-ee2d1bfd0542",
        "colab": {
          "base_uri": "https://localhost:8080/",
          "height": 204
        }
      },
      "source": [
        "df_train.head()"
      ],
      "execution_count": 0,
      "outputs": [
        {
          "output_type": "execute_result",
          "data": {
            "text/html": [
              "<div>\n",
              "<style scoped>\n",
              "    .dataframe tbody tr th:only-of-type {\n",
              "        vertical-align: middle;\n",
              "    }\n",
              "\n",
              "    .dataframe tbody tr th {\n",
              "        vertical-align: top;\n",
              "    }\n",
              "\n",
              "    .dataframe thead th {\n",
              "        text-align: right;\n",
              "    }\n",
              "</style>\n",
              "<table border=\"1\" class=\"dataframe\">\n",
              "  <thead>\n",
              "    <tr style=\"text-align: right;\">\n",
              "      <th></th>\n",
              "      <th>label</th>\n",
              "      <th>id</th>\n",
              "      <th>date</th>\n",
              "      <th>flag</th>\n",
              "      <th>user</th>\n",
              "      <th>text</th>\n",
              "    </tr>\n",
              "  </thead>\n",
              "  <tbody>\n",
              "    <tr>\n",
              "      <th>0</th>\n",
              "      <td>4</td>\n",
              "      <td>1973775248</td>\n",
              "      <td>Sat May 30 11:48:37 PDT 2009</td>\n",
              "      <td>NO_QUERY</td>\n",
              "      <td>mjs4320</td>\n",
              "      <td>Home from work!</td>\n",
              "    </tr>\n",
              "    <tr>\n",
              "      <th>1</th>\n",
              "      <td>0</td>\n",
              "      <td>1974556938</td>\n",
              "      <td>Sat May 30 13:22:31 PDT 2009</td>\n",
              "      <td>NO_QUERY</td>\n",
              "      <td>dougc84</td>\n",
              "      <td>@maeband did you guy's show sell out?  i can't...</td>\n",
              "    </tr>\n",
              "    <tr>\n",
              "      <th>2</th>\n",
              "      <td>0</td>\n",
              "      <td>2202399576</td>\n",
              "      <td>Tue Jun 16 21:43:52 PDT 2009</td>\n",
              "      <td>NO_QUERY</td>\n",
              "      <td>Rebekkahcolburn</td>\n",
              "      <td>Did my poetry reading at kevro's tonight even ...</td>\n",
              "    </tr>\n",
              "    <tr>\n",
              "      <th>3</th>\n",
              "      <td>4</td>\n",
              "      <td>1962899636</td>\n",
              "      <td>Fri May 29 11:53:23 PDT 2009</td>\n",
              "      <td>NO_QUERY</td>\n",
              "      <td>addyct_d</td>\n",
              "      <td>google wave sounds really amazing... new way o...</td>\n",
              "    </tr>\n",
              "    <tr>\n",
              "      <th>4</th>\n",
              "      <td>0</td>\n",
              "      <td>1469846621</td>\n",
              "      <td>Tue Apr 07 07:35:31 PDT 2009</td>\n",
              "      <td>NO_QUERY</td>\n",
              "      <td>dilharasays</td>\n",
              "      <td>@thegutterflower sigh. true that.</td>\n",
              "    </tr>\n",
              "  </tbody>\n",
              "</table>\n",
              "</div>"
            ],
            "text/plain": [
              "   label          id                          date      flag             user  \\\n",
              "0      4  1973775248  Sat May 30 11:48:37 PDT 2009  NO_QUERY          mjs4320   \n",
              "1      0  1974556938  Sat May 30 13:22:31 PDT 2009  NO_QUERY          dougc84   \n",
              "2      0  2202399576  Tue Jun 16 21:43:52 PDT 2009  NO_QUERY  Rebekkahcolburn   \n",
              "3      4  1962899636  Fri May 29 11:53:23 PDT 2009  NO_QUERY         addyct_d   \n",
              "4      0  1469846621  Tue Apr 07 07:35:31 PDT 2009  NO_QUERY      dilharasays   \n",
              "\n",
              "                                                text  \n",
              "0                                   Home from work!   \n",
              "1  @maeband did you guy's show sell out?  i can't...  \n",
              "2  Did my poetry reading at kevro's tonight even ...  \n",
              "3  google wave sounds really amazing... new way o...  \n",
              "4                 @thegutterflower sigh. true that.   "
            ]
          },
          "metadata": {
            "tags": []
          },
          "execution_count": 9
        }
      ]
    },
    {
      "cell_type": "code",
      "metadata": {
        "id": "Qyj8vDaY1F5K",
        "colab_type": "code",
        "outputId": "d8188d4d-f0a3-43c4-9a98-ceaceae13373",
        "colab": {
          "base_uri": "https://localhost:8080/",
          "height": 204
        }
      },
      "source": [
        "df_train.info()"
      ],
      "execution_count": 0,
      "outputs": [
        {
          "output_type": "stream",
          "text": [
            "<class 'pandas.core.frame.DataFrame'>\n",
            "RangeIndex: 1440001 entries, 0 to 1440000\n",
            "Data columns (total 6 columns):\n",
            "label    1440001 non-null int64\n",
            "id       1440001 non-null int64\n",
            "date     1440001 non-null object\n",
            "flag     1440001 non-null object\n",
            "user     1440001 non-null object\n",
            "text     1440001 non-null object\n",
            "dtypes: int64(2), object(4)\n",
            "memory usage: 65.9+ MB\n"
          ],
          "name": "stdout"
        }
      ]
    },
    {
      "cell_type": "code",
      "metadata": {
        "id": "Z9uSdlZQWUc7",
        "colab_type": "code",
        "colab": {}
      },
      "source": [
        "df_train['label'] = df_train['label'].replace(4, 1)"
      ],
      "execution_count": 0,
      "outputs": []
    },
    {
      "cell_type": "code",
      "metadata": {
        "id": "o_twPS41EbbL",
        "colab_type": "code",
        "outputId": "3db78587-ef8d-40a7-c4e1-06a51bd06900",
        "colab": {
          "base_uri": "https://localhost:8080/",
          "height": 343
        }
      },
      "source": [
        "df_train['label'].value_counts().plot.bar();"
      ],
      "execution_count": 0,
      "outputs": [
        {
          "output_type": "display_data",
          "data": {
            "image/png": "[encoded data removed]",
            "text/plain": [
              "<Figure size 576x396 with 1 Axes>"
            ]
          },
          "metadata": {
            "tags": []
          }
        }
      ]
    },
    {
      "cell_type": "markdown",
      "metadata": {
        "id": "tT5DV5n462fk",
        "colab_type": "text"
      },
      "source": [
        "### Load pre-processing"
      ]
    },
    {
      "cell_type": "code",
      "metadata": {
        "id": "CRClbJ9E6WT4",
        "colab_type": "code",
        "colab": {}
      },
      "source": [
        "MAX_NB_WORDS = 100000\n",
        "\n",
        "tweet_tokenizer = TweetTokenizer(strip_handles=True, reduce_len=True)\n",
        "regex_tokenizer = RegexpTokenizer(r'\\w+')\n",
        "\n",
        "lem = WordNetLemmatizer()\n",
        "\n",
        "stop_words = set(stopwords.words('english'))\n",
        "\n",
        "stop_words.update(['.', ',', '\"', \"'\", ':', ';', '(', ')', '[', ']', '{', '}', '<3'])"
      ],
      "execution_count": 0,
      "outputs": []
    },
    {
      "cell_type": "code",
      "metadata": {
        "id": "dZrH0XgW6WkK",
        "colab_type": "code",
        "outputId": "98bb3a05-86c5-4fb3-8763-ccf0a2be4de7",
        "colab": {
          "base_uri": "https://localhost:8080/",
          "height": 54
        }
      },
      "source": [
        "print(stop_words)"
      ],
      "execution_count": 0,
      "outputs": [
        {
          "output_type": "stream",
          "text": [
            "{'here', \"aren't\", 'not', '{', 'from', 'will', 'off', 'are', 'myself', 'should', 'wouldn', 'each', 'hadn', 'had', 'but', 'himself', \"should've\", 'your', 'most', 'on', 'now', 'over', 'hasn', 'i', 'itself', 't', \"she's\", 'nor', 'under', 'they', 'before', 'we', 'such', 'shouldn', 'ma', \"hasn't\", 'which', 'themselves', 'about', '<3', 'couldn', \"haven't\", \"isn't\", '.', 'again', 'ain', ':', 'further', 'been', 'he', 'out', 'haven', 'few', \"wouldn't\", 'when', '}', \"didn't\", \"doesn't\", 'those', 've', \"it's\", 'what', 'against', 'once', 'while', \"mustn't\", 'if', ']', 'was', 'both', \"you've\", 'them', 'down', 'no', 'll', 'so', 'herself', 'have', 'm', 'our', \"you'll\", '\"', ',', 'any', 'in', 'needn', 'my', 'her', 'be', \"won't\", 'she', 'being', 'why', \"shan't\", 'don', 'him', 'to', 'did', 'his', 'up', 'does', 'yourself', 'who', 'an', 'the', 'or', 'of', \"hadn't\", 'you', 'through', 'because', 'as', 'some', 'during', 'how', 'o', 'isn', 'other', 'didn', 'mustn', ';', 'is', 'between', \"'\", 'at', 'only', \"couldn't\", 'yourselves', \"shouldn't\", 'a', 'this', 'it', 'all', 'having', 'above', 'own', 'with', 'its', 'their', \"don't\", 'am', '(', 'wasn', 'very', 'd', 'theirs', 'after', 'has', 'same', 'won', 'by', 'hers', 're', 'and', '[', 'doing', 'until', 'there', 'aren', 'then', 'y', 'whom', 'were', 'into', \"needn't\", \"you're\", \"wasn't\", 'me', 'can', ')', 'more', 'below', 'too', 's', \"mightn't\", 'doesn', 'mightn', 'do', 'than', 'ourselves', 'just', 'for', 'ours', \"you'd\", 'where', 'that', 'shan', \"that'll\", \"weren't\", 'these', 'weren', 'yours'}\n"
          ],
          "name": "stdout"
        }
      ]
    },
    {
      "cell_type": "markdown",
      "metadata": {
        "id": "2xJVmXTtFFtH",
        "colab_type": "text"
      },
      "source": [
        "### Load Embeddings"
      ]
    },
    {
      "cell_type": "code",
      "metadata": {
        "id": "s6wlPGCXFEiH",
        "colab_type": "code",
        "outputId": "01b5a27e-4958-45bb-db83-f191adce3d8f",
        "colab": {
          "base_uri": "https://localhost:8080/",
          "height": 51
        }
      },
      "source": [
        "embeddings_index = {}\n",
        "f = codecs.open('wiki.vec', encoding='utf-8')\n",
        "for line in tqdm(f):\n",
        "    values = line.rstrip().rsplit(' ')\n",
        "    word = values[0]\n",
        "    coefs = np.asarray(values[1:], dtype='float32')\n",
        "    embeddings_index[word] = coefs\n",
        "f.close()\n",
        "print('found %s word vectors' % len(embeddings_index))"
      ],
      "execution_count": 0,
      "outputs": [
        {
          "output_type": "stream",
          "text": [
            "999995it [01:56, 8589.23it/s]"
          ],
          "name": "stderr"
        },
        {
          "output_type": "stream",
          "text": [
            "found 999995 word vectors\n"
          ],
          "name": "stdout"
        },
        {
          "output_type": "stream",
          "text": [
            "\n"
          ],
          "name": "stderr"
        }
      ]
    },
    {
      "cell_type": "markdown",
      "metadata": {
        "id": "5Wfuqm9bGZQB",
        "colab_type": "text"
      },
      "source": [
        "### Tweet length distribution"
      ]
    },
    {
      "cell_type": "code",
      "metadata": {
        "id": "iMGSgTw0GhzX",
        "colab_type": "code",
        "colab": {}
      },
      "source": [
        "df_train['doc_len'] = df_train['text'].apply(lambda words: len(words.split(\" \")))\n",
        "max_seq_len = np.round(df_train['doc_len'].mean() + df_train['doc_len'].std()).astype(int)"
      ],
      "execution_count": 0,
      "outputs": []
    },
    {
      "cell_type": "code",
      "metadata": {
        "id": "vr-aQsomGh25",
        "colab_type": "code",
        "outputId": "b9618197-8c34-41ce-f915-a33e29e03d75",
        "colab": {
          "base_uri": "https://localhost:8080/",
          "height": 347
        }
      },
      "source": [
        "df_train['doc_len'].plot.hist()\n",
        "plt.axvline(x=max_seq_len, color='k', linestyle='--', label='max len');"
      ],
      "execution_count": 0,
      "outputs": [
        {
          "output_type": "display_data",
          "data": {
            "image/png": "[encoded data removed]",
            "text/plain": [
              "<Figure size 576x396 with 1 Axes>"
            ]
          },
          "metadata": {
            "tags": []
          }
        }
      ]
    },
    {
      "cell_type": "markdown",
      "metadata": {
        "id": "2nEpKl7CIJ0q",
        "colab_type": "text"
      },
      "source": [
        "## Pre-processing"
      ]
    },
    {
      "cell_type": "code",
      "metadata": {
        "id": "Vkba08GhH1iS",
        "colab_type": "code",
        "colab": {}
      },
      "source": [
        "raw_text = df_train['text'].tolist()"
      ],
      "execution_count": 0,
      "outputs": []
    },
    {
      "cell_type": "code",
      "metadata": {
        "id": "liSDRoKnH1f7",
        "colab_type": "code",
        "outputId": "0ff6d248-f5c3-43b8-dc6d-03456decc8dc",
        "colab": {
          "base_uri": "https://localhost:8080/",
          "height": 34
        }
      },
      "source": [
        "processed_text_bis = []\n",
        "for tweet in tqdm(raw_text):\n",
        "    tokens = tweet_tokenizer.tokenize(tweet)\n",
        "#    filtered = [word for word in tokens if word not in stop_words]\n",
        "#     filtered = [lem.lemmatize(word) for word in filtered]\n",
        "#     filtered = [lem.lemmatize(word, \"n\") for word in filtered]\n",
        "    filtered = [lem.lemmatize(word, \"v\") for word in tokens]\n",
        "#     filtered = [lem.lemmatize(word, \"a\") for word in filtered]\n",
        "#     filtered = [lem.lemmatize(word, \"r\") for word in filtered]\n",
        "    processed_text_bis.append(\" \".join(filtered))"
      ],
      "execution_count": 0,
      "outputs": [
        {
          "output_type": "stream",
          "text": [
            "100%|██████████| 1440001/1440001 [03:40<00:00, 6538.21it/s]\n"
          ],
          "name": "stderr"
        }
      ]
    },
    {
      "cell_type": "code",
      "metadata": {
        "id": "WZ-gfnm-pHF6",
        "colab_type": "code",
        "outputId": "c2ad4424-4c3c-4b5f-a769-accdb8c4fc58",
        "colab": {
          "base_uri": "https://localhost:8080/",
          "height": 357
        }
      },
      "source": [
        "processed_text_bis[:20]"
      ],
      "execution_count": 0,
      "outputs": [
        {
          "output_type": "execute_result",
          "data": {
            "text/plain": [
              "['Home from work !',\n",
              " \"do you guy's show sell out ? i can't buy a ticket ... and i'm come from richmond ...\",\n",
              " \"Did my poetry read at kevro's tonight even though none of my friends be watch\",\n",
              " 'google wave sound really amaze ... new way of communicate on the internet',\n",
              " 'sigh . true that .',\n",
              " 'ahhh .. i dont have a blackberry .',\n",
              " 'Very true ! nowt wrong with whingeing . No cottage over here',\n",
              " 'Finally back bout to get ready for work ... and its official i hate HATE HATE bomb diver ouch !',\n",
              " \"Now I don't dare to open the window anymore & the smell be kill me\",\n",
              " 'My brother kick me out of the only xbox compatable room',\n",
              " 'sorry ! I prefer to tweet on my pc .. not my crummy palm centro plus lot go on in the \" real worl \" lol',\n",
              " 'Good morning ^ ^ ... http://www.mtv.it/tv/programmi/trl/msn/index.asp VOTE ! ! ! for CB ! ! !',\n",
              " \"I get a dodge intrepid 99 ' and thankxx I'm gladd yu approve\",\n",
              " 'H1N1 virus .. take care friends !',\n",
              " 'anyone see the #beejive update ? I no see it',\n",
              " 'sit at home very bore x',\n",
              " 'Ooooh . Its an amaze morning im up early . And i hear \" Waking Up In Vegas \" AND \" I Do No Hook Up \" on Vh1 <3',\n",
              " 'Nothing really man .. Hwz you .. Bad that I get to rush to office now',\n",
              " 'Getting press release stuff for Autumn already , think it feel like winter today , where have the sun go ! ! !',\n",
              " \"Thank you . That's good to know . I think they be lie to me .\"]"
            ]
          },
          "metadata": {
            "tags": []
          },
          "execution_count": 20
        }
      ]
    },
    {
      "cell_type": "code",
      "metadata": {
        "id": "bVx0xt2orGhJ",
        "colab_type": "code",
        "outputId": "a1cbff31-d7c2-486a-8a66-a1f0afad594e",
        "colab": {
          "base_uri": "https://localhost:8080/",
          "height": 34
        }
      },
      "source": [
        "processed_text = []\n",
        "for tweet in tqdm(processed_text_bis):\n",
        "    tokens = regex_tokenizer.tokenize(tweet)\n",
        "    processed_text.append(\" \".join(tokens))"
      ],
      "execution_count": 0,
      "outputs": [
        {
          "output_type": "stream",
          "text": [
            "100%|██████████| 1440001/1440001 [00:06<00:00, 206637.81it/s]\n"
          ],
          "name": "stderr"
        }
      ]
    },
    {
      "cell_type": "code",
      "metadata": {
        "id": "fNY6aqL7rG-q",
        "colab_type": "code",
        "outputId": "9b411394-1794-4533-c3ef-5a7930cd6ccf",
        "colab": {
          "base_uri": "https://localhost:8080/",
          "height": 357
        }
      },
      "source": [
        "processed_text[:20]"
      ],
      "execution_count": 0,
      "outputs": [
        {
          "output_type": "execute_result",
          "data": {
            "text/plain": [
              "['Home from work',\n",
              " 'do you guy s show sell out i can t buy a ticket and i m come from richmond',\n",
              " 'Did my poetry read at kevro s tonight even though none of my friends be watch',\n",
              " 'google wave sound really amaze new way of communicate on the internet',\n",
              " 'sigh true that',\n",
              " 'ahhh i dont have a blackberry',\n",
              " 'Very true nowt wrong with whingeing No cottage over here',\n",
              " 'Finally back bout to get ready for work and its official i hate HATE HATE bomb diver ouch',\n",
              " 'Now I don t dare to open the window anymore the smell be kill me',\n",
              " 'My brother kick me out of the only xbox compatable room',\n",
              " 'sorry I prefer to tweet on my pc not my crummy palm centro plus lot go on in the real worl lol',\n",
              " 'Good morning http www mtv it tv programmi trl msn index asp VOTE for CB',\n",
              " 'I get a dodge intrepid 99 and thankxx I m gladd yu approve',\n",
              " 'H1N1 virus take care friends',\n",
              " 'anyone see the beejive update I no see it',\n",
              " 'sit at home very bore x',\n",
              " 'Ooooh Its an amaze morning im up early And i hear Waking Up In Vegas AND I Do No Hook Up on Vh1 3',\n",
              " 'Nothing really man Hwz you Bad that I get to rush to office now',\n",
              " 'Getting press release stuff for Autumn already think it feel like winter today where have the sun go',\n",
              " 'Thank you That s good to know I think they be lie to me']"
            ]
          },
          "metadata": {
            "tags": []
          },
          "execution_count": 22
        }
      ]
    },
    {
      "cell_type": "markdown",
      "metadata": {
        "id": "NNQb2BTUIYNE",
        "colab_type": "text"
      },
      "source": [
        "### Tokenize"
      ]
    },
    {
      "cell_type": "code",
      "metadata": {
        "id": "oOS8pbliH1c2",
        "colab_type": "code",
        "outputId": "fe4a25b5-0325-4e73-9881-91df8ff76c36",
        "colab": {
          "base_uri": "https://localhost:8080/",
          "height": 34
        }
      },
      "source": [
        "tokenizer = Tokenizer(num_words=MAX_NB_WORDS, lower=True, char_level=False)\n",
        "tokenizer.fit_on_texts(processed_text)\n",
        "word_seq = tokenizer.texts_to_sequences(processed_text)\n",
        "word_index = tokenizer.word_index\n",
        "print(\"dictionary size: \", len(word_index))"
      ],
      "execution_count": 0,
      "outputs": [
        {
          "output_type": "stream",
          "text": [
            "dictionary size:  303100\n"
          ],
          "name": "stdout"
        }
      ]
    },
    {
      "cell_type": "code",
      "metadata": {
        "id": "qX55LlrwPfKF",
        "colab_type": "code",
        "colab": {}
      },
      "source": [
        "word_seq = sequence.pad_sequences(word_seq, maxlen=max_seq_len)"
      ],
      "execution_count": 0,
      "outputs": []
    },
    {
      "cell_type": "code",
      "metadata": {
        "id": "mPGGL5kqyynb",
        "colab_type": "code",
        "outputId": "aefb94b7-bebf-44a5-e582-efd634eaca22",
        "colab": {
          "base_uri": "https://localhost:8080/",
          "height": 34
        }
      },
      "source": [
        "word_seq.shape"
      ],
      "execution_count": 0,
      "outputs": [
        {
          "output_type": "execute_result",
          "data": {
            "text/plain": [
              "(1440001, 22)"
            ]
          },
          "metadata": {
            "tags": []
          },
          "execution_count": 25
        }
      ]
    },
    {
      "cell_type": "code",
      "metadata": {
        "id": "65VMNF0dXL6K",
        "colab_type": "code",
        "colab": {}
      },
      "source": [
        "y_true = df_train['label'].values"
      ],
      "execution_count": 0,
      "outputs": []
    },
    {
      "cell_type": "code",
      "metadata": {
        "id": "CnDxFk-ay0Ky",
        "colab_type": "code",
        "outputId": "43e6ab5e-b607-4e10-c6b3-e12c9f665a1d",
        "colab": {
          "base_uri": "https://localhost:8080/",
          "height": 34
        }
      },
      "source": [
        "y_true.shape"
      ],
      "execution_count": 0,
      "outputs": [
        {
          "output_type": "execute_result",
          "data": {
            "text/plain": [
              "(1440001,)"
            ]
          },
          "metadata": {
            "tags": []
          },
          "execution_count": 27
        }
      ]
    },
    {
      "cell_type": "markdown",
      "metadata": {
        "id": "zw1afQikK0_k",
        "colab_type": "text"
      },
      "source": [
        "### Embeddings"
      ]
    },
    {
      "cell_type": "code",
      "metadata": {
        "id": "F4IkUBT5LPHG",
        "colab_type": "code",
        "colab": {}
      },
      "source": [
        "embed_dim = 300"
      ],
      "execution_count": 0,
      "outputs": []
    },
    {
      "cell_type": "code",
      "metadata": {
        "id": "MOHB5jLKK2AH",
        "colab_type": "code",
        "outputId": "bf2ffeb1-53fe-4b48-c67f-4f6e06749446",
        "colab": {
          "base_uri": "https://localhost:8080/",
          "height": 34
        }
      },
      "source": [
        "words_not_found = []\n",
        "nb_words = min(MAX_NB_WORDS, len(word_index))\n",
        "embedding_matrix = np.zeros((nb_words, embed_dim))\n",
        "for word, i in word_index.items():\n",
        "    if i >= nb_words:\n",
        "        continue\n",
        "    embedding_vector = embeddings_index.get(word)\n",
        "    if (embedding_vector is not None) and len(embedding_vector) == 300:\n",
        "        # words not found in embedding index will be all-zeros.\n",
        "        embedding_matrix[i] = embedding_vector\n",
        "    else:\n",
        "        words_not_found.append(word)\n",
        "print('number of null word embeddings: %d' % np.sum(np.sum(embedding_matrix, axis=1) == 0))"
      ],
      "execution_count": 0,
      "outputs": [
        {
          "output_type": "stream",
          "text": [
            "number of null word embeddings: 44309\n"
          ],
          "name": "stdout"
        }
      ]
    },
    {
      "cell_type": "code",
      "metadata": {
        "id": "nizD1dTcK2D9",
        "colab_type": "code",
        "outputId": "96964148-6626-4f7c-c83f-91c00faaf317",
        "colab": {
          "base_uri": "https://localhost:8080/",
          "height": 51
        }
      },
      "source": [
        "print(\"sample words not found: \", np.random.choice(words_not_found, 10))"
      ],
      "execution_count": 0,
      "outputs": [
        {
          "output_type": "stream",
          "text": [
            "sample words not found:  ['unfourtunately' 'australie' 'berrie' '3pf7v' 'ringin' 'vä' 'yihee'\n",
            " 'examn' 'theemm' 'aswelll']\n"
          ],
          "name": "stdout"
        }
      ]
    },
    {
      "cell_type": "markdown",
      "metadata": {
        "id": "laMobJQYUvQU",
        "colab_type": "text"
      },
      "source": [
        "## Model"
      ]
    },
    {
      "cell_type": "code",
      "metadata": {
        "id": "PNBT4_nB-Pl3",
        "colab_type": "code",
        "colab": {}
      },
      "source": [
        "def create_model():\n",
        "  \n",
        "  inp = Input(shape=(max_seq_len,))\n",
        "  x = Embedding(nb_words, embed_dim,\n",
        "                weights=[embedding_matrix],\n",
        "                input_length=max_seq_len, trainable=False)(inp)\n",
        "  x1 = Conv1D(200, 3, activation='relu', padding='same')(x)\n",
        "  #x1 = SpatialDropout1D(0.2)(x1)\n",
        "  x1 = GlobalMaxPooling1D()(x1)\n",
        "  \n",
        "  x2 = Conv1D(200, 4, activation='relu', padding='same')(x)\n",
        "  #x2 = SpatialDropout1D(0.2)(x2)\n",
        "  x2 = GlobalMaxPooling1D()(x2)\n",
        "  \n",
        "  x3 = Conv1D(200, 5, activation='relu', padding='same')(x)\n",
        "  #x3 = SpatialDropout1D(0.2)(x3)\n",
        "  x3 = GlobalMaxPooling1D()(x3)\n",
        "  \n",
        "  x = concatenate([x1, x2, x3])\n",
        "  x = Dropout(0.5)(x)\n",
        "  x = Dense(30, activation='relu')(x)\n",
        "  x = Dropout(0.5)(x)\n",
        "  x = Dense(1, activation='sigmoid')(x)\n",
        "  \n",
        "  model = Model(inputs=inp, outputs=x)\n",
        "  \n",
        "  opt = optimizers.Adam(lr=0.001)\n",
        "  \n",
        "  model.compile(loss='binary_crossentropy',\n",
        "                optimizer=opt,\n",
        "                metrics=['accuracy'])\n",
        "  \n",
        "  return model"
      ],
      "execution_count": 0,
      "outputs": []
    },
    {
      "cell_type": "code",
      "metadata": {
        "id": "2SlZGNVOU-L6",
        "colab_type": "code",
        "outputId": "b28b2242-b477-461f-9c11-ec21b50a5db1",
        "colab": {
          "base_uri": "https://localhost:8080/",
          "height": 734
        }
      },
      "source": [
        "model = create_model()\n",
        "model.summary()"
      ],
      "execution_count": 0,
      "outputs": [
        {
          "output_type": "stream",
          "text": [
            "WARNING:tensorflow:From /usr/local/lib/python3.6/dist-packages/tensorflow/python/framework/op_def_library.py:263: colocate_with (from tensorflow.python.framework.ops) is deprecated and will be removed in a future version.\n",
            "Instructions for updating:\n",
            "Colocations handled automatically by placer.\n",
            "WARNING:tensorflow:From /usr/local/lib/python3.6/dist-packages/keras/backend/tensorflow_backend.py:3445: calling dropout (from tensorflow.python.ops.nn_ops) with keep_prob is deprecated and will be removed in a future version.\n",
            "Instructions for updating:\n",
            "Please use `rate` instead of `keep_prob`. Rate should be set to `rate = 1 - keep_prob`.\n",
            "__________________________________________________________________________________________________\n",
            "Layer (type)                    Output Shape         Param #     Connected to                     \n",
            "==================================================================================================\n",
            "input_1 (InputLayer)            (None, 22)           0                                            \n",
            "__________________________________________________________________________________________________\n",
            "embedding_1 (Embedding)         (None, 22, 300)      30000000    input_1[0][0]                    \n",
            "__________________________________________________________________________________________________\n",
            "conv1d_1 (Conv1D)               (None, 22, 200)      180200      embedding_1[0][0]                \n",
            "__________________________________________________________________________________________________\n",
            "conv1d_2 (Conv1D)               (None, 22, 200)      240200      embedding_1[0][0]                \n",
            "__________________________________________________________________________________________________\n",
            "conv1d_3 (Conv1D)               (None, 22, 200)      300200      embedding_1[0][0]                \n",
            "__________________________________________________________________________________________________\n",
            "global_max_pooling1d_1 (GlobalM (None, 200)          0           conv1d_1[0][0]                   \n",
            "__________________________________________________________________________________________________\n",
            "global_max_pooling1d_2 (GlobalM (None, 200)          0           conv1d_2[0][0]                   \n",
            "__________________________________________________________________________________________________\n",
            "global_max_pooling1d_3 (GlobalM (None, 200)          0           conv1d_3[0][0]                   \n",
            "__________________________________________________________________________________________________\n",
            "concatenate_1 (Concatenate)     (None, 600)          0           global_max_pooling1d_1[0][0]     \n",
            "                                                                 global_max_pooling1d_2[0][0]     \n",
            "                                                                 global_max_pooling1d_3[0][0]     \n",
            "__________________________________________________________________________________________________\n",
            "dropout_1 (Dropout)             (None, 600)          0           concatenate_1[0][0]              \n",
            "__________________________________________________________________________________________________\n",
            "dense_1 (Dense)                 (None, 30)           18030       dropout_1[0][0]                  \n",
            "__________________________________________________________________________________________________\n",
            "dropout_2 (Dropout)             (None, 30)           0           dense_1[0][0]                    \n",
            "__________________________________________________________________________________________________\n",
            "dense_2 (Dense)                 (None, 1)            31          dropout_2[0][0]                  \n",
            "==================================================================================================\n",
            "Total params: 30,738,661\n",
            "Trainable params: 738,661\n",
            "Non-trainable params: 30,000,000\n",
            "__________________________________________________________________________________________________\n"
          ],
          "name": "stdout"
        }
      ]
    },
    {
      "cell_type": "code",
      "metadata": {
        "id": "WE4qIQ5DY7Jq",
        "colab_type": "code",
        "outputId": "86dffd04-f02c-4778-c822-b7a8f5735749",
        "colab": {
          "base_uri": "https://localhost:8080/",
          "height": 326
        }
      },
      "source": [
        "history = model.fit(word_seq, y_true, batch_size=256, epochs=5,\n",
        "                    validation_split=0.2)"
      ],
      "execution_count": 0,
      "outputs": [
        {
          "output_type": "stream",
          "text": [
            "WARNING:tensorflow:From /usr/local/lib/python3.6/dist-packages/tensorflow/python/ops/math_ops.py:3066: to_int32 (from tensorflow.python.ops.math_ops) is deprecated and will be removed in a future version.\n",
            "Instructions for updating:\n",
            "Use tf.cast instead.\n",
            "WARNING:tensorflow:From /usr/local/lib/python3.6/dist-packages/tensorflow/python/ops/math_grad.py:102: div (from tensorflow.python.ops.math_ops) is deprecated and will be removed in a future version.\n",
            "Instructions for updating:\n",
            "Deprecated in favor of operator or tf.math.divide.\n",
            "Train on 1152000 samples, validate on 288001 samples\n",
            "Epoch 1/5\n",
            "1152000/1152000 [==============================] - 122s 106us/step - loss: 0.4532 - acc: 0.7916 - val_loss: 0.4056 - val_acc: 0.8163\n",
            "Epoch 2/5\n",
            "1152000/1152000 [==============================] - 119s 103us/step - loss: 0.4198 - acc: 0.8119 - val_loss: 0.3943 - val_acc: 0.8218\n",
            "Epoch 3/5\n",
            "1152000/1152000 [==============================] - 119s 103us/step - loss: 0.4069 - acc: 0.8184 - val_loss: 0.3875 - val_acc: 0.8250\n",
            "Epoch 4/5\n",
            "1152000/1152000 [==============================] - 119s 103us/step - loss: 0.3978 - acc: 0.8239 - val_loss: 0.3837 - val_acc: 0.8270\n",
            "Epoch 5/5\n",
            "1152000/1152000 [==============================] - 119s 103us/step - loss: 0.3903 - acc: 0.8275 - val_loss: 0.3830 - val_acc: 0.8278\n"
          ],
          "name": "stdout"
        }
      ]
    },
    {
      "cell_type": "code",
      "metadata": {
        "id": "qBdYmV4wY-aH",
        "colab_type": "code",
        "outputId": "67ee8af0-0518-4ee5-a090-ec6baa8d81ae",
        "colab": {
          "base_uri": "https://localhost:8080/",
          "height": 361
        }
      },
      "source": [
        "plt.plot(history.history['acc'], label='acc')\n",
        "plt.plot(history.history['val_acc'], label='val_acc')\n",
        "plt.xlabel('epoch')\n",
        "plt.ylabel('loss')\n",
        "plt.legend();"
      ],
      "execution_count": 0,
      "outputs": [
        {
          "output_type": "display_data",
          "data": {
            "image/png": "[encoded data removed]",
            "text/plain": [
              "<Figure size 576x396 with 1 Axes>"
            ]
          },
          "metadata": {
            "tags": []
          }
        }
      ]
    },
    {
      "cell_type": "markdown",
      "metadata": {
        "id": "mBc-AztSjwFL",
        "colab_type": "text"
      },
      "source": [
        "## Save model"
      ]
    },
    {
      "cell_type": "code",
      "metadata": {
        "id": "fQmr7cTbjtE5",
        "colab_type": "code",
        "colab": {}
      },
      "source": [
        "model.save('my_model.h5')"
      ],
      "execution_count": 0,
      "outputs": []
    },
    {
      "cell_type": "code",
      "metadata": {
        "id": "iO1fqyu4lrw8",
        "colab_type": "code",
        "colab": {}
      },
      "source": [
        "tokenizer_json = tokenizer.to_json()\n",
        "with io.open('tokenizer.json', 'w', encoding='utf-8') as f:\n",
        "    f.write(json.dumps(tokenizer_json, ensure_ascii=False))"
      ],
      "execution_count": 0,
      "outputs": []
    },
    {
      "cell_type": "markdown",
      "metadata": {
        "id": "e_7IC3ewu3T2",
        "colab_type": "text"
      },
      "source": [
        "## Test on new sentence"
      ]
    },
    {
      "cell_type": "code",
      "metadata": {
        "id": "EA8Eljk7u2mZ",
        "colab_type": "code",
        "colab": {}
      },
      "source": [
        "def predict(text):\n",
        "  # pre-process text\n",
        "    tokens = tweet_tokenizer.tokenize(text)\n",
        "    processed_text = \" \".join(tokens)\n",
        "    \n",
        "    tokens = regex_tokenizer.tokenize(processed_text)\n",
        "    processed_text = [\" \".join(tokens)]\n",
        "    \n",
        "    word_seq = tokenizer.texts_to_sequences(processed_text)\n",
        "    word_seq = sequence.pad_sequences(word_seq, maxlen=max_seq_len)\n",
        "    \n",
        "    pred = model.predict(word_seq)\n",
        "    \n",
        "    print(pred)"
      ],
      "execution_count": 0,
      "outputs": []
    },
    {
      "cell_type": "code",
      "metadata": {
        "id": "JdMwr1DTvi05",
        "colab_type": "code",
        "colab": {}
      },
      "source": [
        "text = \"Python is very good !\""
      ],
      "execution_count": 0,
      "outputs": []
    },
    {
      "cell_type": "code",
      "metadata": {
        "id": "cmHQV6mYvi3p",
        "colab_type": "code",
        "outputId": "1e332803-e7c0-4ba9-a40c-b86e6268bf55",
        "colab": {
          "base_uri": "https://localhost:8080/",
          "height": 34
        }
      },
      "source": [
        "predict(text)"
      ],
      "execution_count": 0,
      "outputs": [
        {
          "output_type": "stream",
          "text": [
            "[[0.9870812]]\n"
          ],
          "name": "stdout"
        }
      ]
    },
    {
      "cell_type": "markdown",
      "metadata": {
        "id": "ufCgCpoU0NTU",
        "colab_type": "text"
      },
      "source": [
        "# End"
      ]
    }
  ]
}